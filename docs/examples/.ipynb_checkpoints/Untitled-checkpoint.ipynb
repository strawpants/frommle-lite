{
 "cells": [
  {
   "cell_type": "markdown",
   "id": "8b0c3edb-a050-452e-a070-2c915fbbbffc",
   "metadata": {},
   "source": [
    "# Spherical harmonic analysis on a grid\n",
    "In this example, a sample of fully normalized spherical harmonic coefficients will be evaluated (analyzed) on a grid and a set of points."
   ]
  },
  {
   "cell_type": "code",
   "execution_count": 1,
   "id": "e0b2d9fd-3351-4555-9fa3-69f7a1be0245",
   "metadata": {},
   "outputs": [],
   "source": [
    "%load_ext autoreload \n",
    "%autoreload 2\n",
    "\n",
    "from frommle2.sh.analysis import YnmFwd\n",
    "import xarray as xr"
   ]
  },
  {
   "cell_type": "code",
   "execution_count": null,
   "id": "36563cf3-97d4-43ce-8e80-4007089dc5f6",
   "metadata": {},
   "outputs": [],
   "source": [
    "## Let's load a test dataset\n",
    "\n"
   ]
  }
 ],
 "metadata": {
  "kernelspec": {
   "display_name": "pyrr",
   "language": "python",
   "name": "pyrr"
  },
  "language_info": {
   "codemirror_mode": {
    "name": "ipython",
    "version": 3
   },
   "file_extension": ".py",
   "mimetype": "text/x-python",
   "name": "python",
   "nbconvert_exporter": "python",
   "pygments_lexer": "ipython3",
   "version": "3.10.2"
  }
 },
 "nbformat": 4,
 "nbformat_minor": 5
}
